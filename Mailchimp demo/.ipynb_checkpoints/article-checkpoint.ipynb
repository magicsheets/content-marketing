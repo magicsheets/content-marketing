{
 "cells": [
  {
   "cell_type": "markdown",
   "id": "51b4b044-bc3f-4d8a-9780-4673f224b940",
   "metadata": {},
   "source": [
    "# How many subscribers should I expect?...\n",
    "## Predicting new subscriptions with Machine Learning"
   ]
  },
  {
   "cell_type": "markdown",
   "id": "7cf43f29-6718-4bb9-b9a5-1746185891bb",
   "metadata": {},
   "source": [
    "*In this article we learn how to build a simple time series model in Python to predict the number of new newsletter subscribers in ````Mailchimp````. We then demonstrate how this process can be greatly simplified with ````Magicsheets````.*"
   ]
  },
  {
   "cell_type": "markdown",
   "id": "c3728e87-d2fa-4c7b-a142-ba0dc7e86335",
   "metadata": {},
   "source": [
    "*NOTE: This notebook can be used directly with your own Mailchimp dataset. Just save it down on your laptop together with your own dataset called \"data.csv\", and run the code again.*"
   ]
  },
  {
   "cell_type": "markdown",
   "id": "7486a57f-ffa1-4ce3-b55e-652c0df0a887",
   "metadata": {},
   "source": [
    "Regardless of whether you\n",
    "\n",
    "* are a subscription-based business,\n",
    "* manage a ````Slack```` channel,\n",
    "* manage your start-ups newsletter,\n",
    "* etc.\n",
    "\n",
    "your key metric to think about is new subscriber numbers.\n",
    "\n",
    "For a **community manager**, knowing how big the new user traffic in the coming days is likely ot be is key for effective management of resources and efficient use of your time.\n",
    "\n",
    "Getting your data into nice charts for analysis is one thing, but how do we **predict** the new subscriber number?\n",
    "\n",
    "One way is to use a *time series* model.\n",
    "\n",
    "> Our model will learn to spot a pattern in the number of daily signups and extend this pattern by the extra prediction period of 7 days \n",
    "\n",
    "Let's look at an example to understand what this means.\n",
    "<!-- One simple and often effective way to do so is simple *regression models*.\n",
    "What are these? Regression models are just fitting a line to your data.\n",
    "If on x-axis (horizontal) we put the subscription times and y-axis (vertical) we plot subscription numbers, we might end up with a plot like this: -->"
   ]
  },
  {
   "cell_type": "markdown",
   "id": "a7ccc78f-bd4a-4a32-9262-98cdaf1fc92a",
   "metadata": {},
   "source": [
    "### The Mailchimp subscriber forecasting\n",
    "\n",
    "We will try to answer the question:\n",
    "> **How many new newsletter subscribers can I expect to get in the next week?**\n",
    "\n",
    "We will do so by applying Machine Learning to find a pattern in our ````Mailchimp```` subscriber dataset and extend this pattern to formulate a prediction.\n",
    "\n",
    "#### The dataset\n",
    "First, let's get the past subscriber dataset from our ````Mailchimp````. \n",
    "\n",
    "*(You can read about exporting your contacts [here](https://mailchimp.com/help/view-export-contacts/) (once you log into Mailchimp, go to Audiences $\\rightarrow$ select your audience $\\rightarrow$ view contacts $\\rightarrow$ export $\\rightarrow$ select export to .csv))*\n",
    "\n",
    "Export your Mailchimp dataset and save it in the same folder as this Jupyter notebook. In this tutorial, we are using our own [Magicsheets.io](www.magicsheets.io) ````Mailchimp```` newsletter subscriber dataset, anonimised to protect the subscibers' privacy. \n",
    "\n",
    "Once we have the dataset saved down in the same folder, we load it using the ````Pandas```` package. (The email addresses here are randomly generated.)"
   ]
  },
  {
   "cell_type": "code",
   "execution_count": 2,
   "id": "9373dfa8-5cc3-4460-a41d-ffd475459204",
   "metadata": {},
   "outputs": [
    {
     "data": {
      "text/html": [
       "<div>\n",
       "<style scoped>\n",
       "    .dataframe tbody tr th:only-of-type {\n",
       "        vertical-align: middle;\n",
       "    }\n",
       "\n",
       "    .dataframe tbody tr th {\n",
       "        vertical-align: top;\n",
       "    }\n",
       "\n",
       "    .dataframe thead th {\n",
       "        text-align: right;\n",
       "    }\n",
       "</style>\n",
       "<table border=\"1\" class=\"dataframe\">\n",
       "  <thead>\n",
       "    <tr style=\"text-align: right;\">\n",
       "      <th></th>\n",
       "      <th>Email Address</th>\n",
       "      <th>MEMBER_RATING</th>\n",
       "      <th>OPTIN_TIME</th>\n",
       "      <th>CONFIRM_TIME</th>\n",
       "      <th>GMTOFF</th>\n",
       "      <th>DSTOFF</th>\n",
       "      <th>TIMEZONE</th>\n",
       "      <th>CC</th>\n",
       "      <th>LAST_CHANGED</th>\n",
       "      <th>NOTES</th>\n",
       "      <th>TAGS</th>\n",
       "    </tr>\n",
       "  </thead>\n",
       "  <tbody>\n",
       "    <tr>\n",
       "      <th>0</th>\n",
       "      <td>lawrence@magicsheets.io</td>\n",
       "      <td>2</td>\n",
       "      <td>2021/10/14 4:57</td>\n",
       "      <td>2021/10/14 4:57</td>\n",
       "      <td>8</td>\n",
       "      <td>8</td>\n",
       "      <td>europe/london</td>\n",
       "      <td>uk</td>\n",
       "      <td>2021/10/14 4:57</td>\n",
       "      <td>NaN</td>\n",
       "      <td>NaN</td>\n",
       "    </tr>\n",
       "    <tr>\n",
       "      <th>1</th>\n",
       "      <td>hello@magicsheets.io</td>\n",
       "      <td>2</td>\n",
       "      <td>2021/4/17 16:06</td>\n",
       "      <td>2021/4/17 16:06</td>\n",
       "      <td>1</td>\n",
       "      <td>2</td>\n",
       "      <td>europe/brussels</td>\n",
       "      <td>be</td>\n",
       "      <td>2021/9/26 12:47</td>\n",
       "      <td>NaN</td>\n",
       "      <td>NaN</td>\n",
       "    </tr>\n",
       "    <tr>\n",
       "      <th>2</th>\n",
       "      <td>gogrogane0@over-blog.com</td>\n",
       "      <td>2</td>\n",
       "      <td>2021/10/14 11:21</td>\n",
       "      <td>2021/10/14 11:21</td>\n",
       "      <td>NaN</td>\n",
       "      <td>NaN</td>\n",
       "      <td>NaN</td>\n",
       "      <td>NaN</td>\n",
       "      <td>2021/10/14 11:21</td>\n",
       "      <td>NaN</td>\n",
       "      <td>\"Add-on Signup\"</td>\n",
       "    </tr>\n",
       "    <tr>\n",
       "      <th>3</th>\n",
       "      <td>ddockery1@dropbox.com</td>\n",
       "      <td>4</td>\n",
       "      <td>2021/5/4 14:30</td>\n",
       "      <td>2021/5/4 14:30</td>\n",
       "      <td>1</td>\n",
       "      <td>2</td>\n",
       "      <td>europe/berlin</td>\n",
       "      <td>de</td>\n",
       "      <td>2021/9/26 12:47</td>\n",
       "      <td>NaN</td>\n",
       "      <td>NaN</td>\n",
       "    </tr>\n",
       "    <tr>\n",
       "      <th>4</th>\n",
       "      <td>abickerdyke2@photobucket.com</td>\n",
       "      <td>2</td>\n",
       "      <td>2021/4/22 16:41</td>\n",
       "      <td>2021/4/22 16:41</td>\n",
       "      <td>1</td>\n",
       "      <td>2</td>\n",
       "      <td>Europe/Brussels</td>\n",
       "      <td>BE</td>\n",
       "      <td>2021/9/26 12:53</td>\n",
       "      <td>NaN</td>\n",
       "      <td>NaN</td>\n",
       "    </tr>\n",
       "  </tbody>\n",
       "</table>\n",
       "</div>"
      ],
      "text/plain": [
       "                  Email Address  MEMBER_RATING        OPTIN_TIME  \\\n",
       "0       lawrence@magicsheets.io              2   2021/10/14 4:57   \n",
       "1          hello@magicsheets.io              2   2021/4/17 16:06   \n",
       "2      gogrogane0@over-blog.com              2  2021/10/14 11:21   \n",
       "3         ddockery1@dropbox.com              4    2021/5/4 14:30   \n",
       "4  abickerdyke2@photobucket.com              2   2021/4/22 16:41   \n",
       "\n",
       "       CONFIRM_TIME GMTOFF DSTOFF         TIMEZONE   CC      LAST_CHANGED  \\\n",
       "0   2021/10/14 4:57      8      8    europe/london   uk   2021/10/14 4:57   \n",
       "1   2021/4/17 16:06      1      2  europe/brussels   be   2021/9/26 12:47   \n",
       "2  2021/10/14 11:21    NaN    NaN              NaN  NaN  2021/10/14 11:21   \n",
       "3    2021/5/4 14:30      1      2    europe/berlin   de   2021/9/26 12:47   \n",
       "4   2021/4/22 16:41      1      2  Europe/Brussels   BE   2021/9/26 12:53   \n",
       "\n",
       "   NOTES             TAGS  \n",
       "0    NaN              NaN  \n",
       "1    NaN              NaN  \n",
       "2    NaN  \"Add-on Signup\"  \n",
       "3    NaN              NaN  \n",
       "4    NaN              NaN  "
      ]
     },
     "execution_count": 2,
     "metadata": {},
     "output_type": "execute_result"
    }
   ],
   "source": [
    "# get pandas\n",
    "import pandas as pd\n",
    "\n",
    "# load the dataset as \"data\"\n",
    "data = pd.read_csv('data.csv')\n",
    "\n",
    "# view the top 10 rows of the dataset \n",
    "data.head()"
   ]
  },
  {
   "cell_type": "markdown",
   "id": "3492c3d4-fc5b-4710-b746-bb836867d373",
   "metadata": {},
   "source": [
    "#### Cleaning the data\n",
    "\n",
    "````Mailchimp```` provides us with tonnes of useful information, such as he IP address of the subscirber, the location (actual geographical location!) of the IP address, the subscriber's time zone, etc.\n",
    "\n",
    "For us, however, the only useful piece of information for now will be the time when the person actually became a subscriber.\n",
    "\n",
    "> The key column for us is thu \"CONFIRM_TIME\" column which tells us when the subscriber became a subscriber."
   ]
  },
  {
   "cell_type": "code",
   "execution_count": 3,
   "id": "504f413e-453d-4dd9-83a0-9863fac88e69",
   "metadata": {},
   "outputs": [],
   "source": [
    "# define \"times\" variable to hold the desired data input\n",
    "times = data['CONFIRM_TIME']\n",
    "\n",
    "# modify \"times\" to only contain the date (we don't care about the exact hour when the person subscribed; just the date is enough)\n",
    "times = pd.to_datetime(times)"
   ]
  },
  {
   "cell_type": "markdown",
   "id": "09009aa1-feba-4050-8fd4-5dca33db0b4c",
   "metadata": {},
   "source": [
    "Once we isolated the desired \"times\" dataset, we want to group the subscription numbers by date.\n",
    "\n",
    "That is, we want to know how many new subscribers there were on each day."
   ]
  },
  {
   "cell_type": "code",
   "execution_count": 5,
   "id": "f47d19cf-cbc0-4cbf-8a64-f0aaf74f5841",
   "metadata": {},
   "outputs": [
    {
     "name": "stdout",
     "output_type": "stream",
     "text": [
      "   CONFIRM_TIME  count\n",
      "0    2021-04-16      1\n",
      "1    2021-04-17      4\n",
      "2    2021-04-22      4\n",
      "3    2021-04-23      1\n",
      "4    2021-04-25      1\n",
      "..          ...    ...\n",
      "72   2021-10-14      5\n",
      "73   2021-10-15      1\n",
      "74   2021-10-16      1\n",
      "75   2021-10-18      1\n",
      "76   2021-10-24      1\n",
      "\n",
      "[77 rows x 2 columns]\n"
     ]
    }
   ],
   "source": [
    "times_day_count = times.groupby(times.dt.floor('d')).size().reset_index(name='count')\n",
    "print(times_day_count)"
   ]
  },
  {
   "cell_type": "markdown",
   "id": "e6752fcf-6ccf-4de9-a381-2fb047c7c5bb",
   "metadata": {},
   "source": [
    "#### Forecasting Horizon (prediction period)\n",
    "\n",
    "We define the prediction period (how many days we want to make predictions for).\n",
    "\n",
    "Here we are focusing on a 1 week prediction, but you can use any number of days you wish.\n",
    "\n",
    "**Note:** *The farther ahead you are looking, the less accurate the predictions will be. You should also be careful when picking the size of the prediction period *relative to your dataset size*. For example, if you have a dataset encompassing 3 months, a week's worth of predictions might make sense, but making a 5-year forecast based on the same data is probably not going to be very accurate!*\n",
    "\n",
    "We will use a simple, pre-defined and fully automated function ForecastingHorizon from ````sktime```` library, which contains easy-to-deploy time series models, like so:"
   ]
  },
  {
   "cell_type": "code",
   "execution_count": 16,
   "id": "836b0706-6f71-4db3-93f0-d0f9a6a3715a",
   "metadata": {},
   "outputs": [],
   "source": [
    "# get the function\n",
    "from sktime.forecasting.base import ForecastingHorizon\n",
    "\n",
    "# define the prediction period (AKA the Forecasting Horizon)\n",
    "fh = ForecastingHorizon(times_day_count.index, is_relative=False)"
   ]
  },
  {
   "cell_type": "code",
   "execution_count": null,
   "id": "7cc9f1b0-86fd-406b-9a04-7aefaae37d17",
   "metadata": {},
   "outputs": [],
   "source": []
  },
  {
   "cell_type": "markdown",
   "id": "fae02256-5f60-438b-b39d-ffed748e0dd8",
   "metadata": {},
   "source": [
    "#### The model\n",
    "We now build the time series model. This can also be loaded directly from ````sktime```` library.\n",
    "\n",
    "> The model we are going to use is called Exponential Smoothing. You can read more about the theory behind it [here](https://en.wikipedia.org/wiki/Exponential_smoothing)."
   ]
  },
  {
   "cell_type": "code",
   "execution_count": 27,
   "id": "9f6e70b0-77b5-4ce7-ad8e-520b5f84fbe3",
   "metadata": {},
   "outputs": [],
   "source": [
    "# download the pre-defined model framework from the sktime library\n",
    "from sktime.forecasting.exp_smoothing import ExponentialSmoothing\n",
    "\n",
    "# construct the model for this case\n",
    "model = ExponentialSmoothing()"
   ]
  },
  {
   "cell_type": "markdown",
   "id": "d60bc360-6c42-481f-90f0-3468cf527cd7",
   "metadata": {},
   "source": [
    "#### Training the model\n",
    "\n",
    "> We train our model using the time series dataset, by directly applying the *fit* function, and feeding the *count* column of the ````times_day_count```` variable to the model"
   ]
  },
  {
   "cell_type": "code",
   "execution_count": 28,
   "id": "79d7466f-10ae-4749-804b-dad92e8ea6e2",
   "metadata": {},
   "outputs": [
    {
     "data": {
      "text/plain": [
       "ExponentialSmoothing(seasonal='add', sp=7, trend='add')"
      ]
     },
     "execution_count": 28,
     "metadata": {},
     "output_type": "execute_result"
    }
   ],
   "source": [
    "model.fit(times_day_count['count'])"
   ]
  },
  {
   "cell_type": "markdown",
   "id": "5f5faabf-ecf4-4657-b310-b774a28b508e",
   "metadata": {},
   "source": [
    "#### <font color=blue|black>Predicting the future ````Mailchimp```` subcribers!</font>\n",
    "\n",
    "Once we have trained our model, we can finally generate predictions for the new subscriber numbers in the coming week.\n",
    "\n",
    "> To create the predictions, we can directly apply ````predict```` function to the trained model, using as argument the Forecasting Horizon (prediction period)"
   ]
  },
  {
   "cell_type": "code",
   "execution_count": 22,
   "id": "d6fbebfe-4178-4948-8949-338845bdbcb4",
   "metadata": {},
   "outputs": [],
   "source": [
    "import numpy as np"
   ]
  },
  {
   "cell_type": "code",
   "execution_count": 29,
   "id": "df307494-fd4d-451d-a2d9-54d08f685bbd",
   "metadata": {},
   "outputs": [
    {
     "data": {
      "text/plain": [
       "77    2.0\n",
       "78    1.0\n",
       "79    2.0\n",
       "80    1.0\n",
       "81    1.0\n",
       "82    1.0\n",
       "83    1.0\n",
       "dtype: float64"
      ]
     },
     "execution_count": 29,
     "metadata": {},
     "output_type": "execute_result"
    }
   ],
   "source": [
    "np.floor(model.predict(fh=[1,2,3,4,5,6,7]))"
   ]
  },
  {
   "cell_type": "code",
   "execution_count": null,
   "id": "14d694cb-60f3-4bdd-a6c6-6c8158db8ba0",
   "metadata": {},
   "outputs": [],
   "source": [
    "## \n",
    "\n",
    "First, let's see if the current subscriber dataset can give us an answer.\n",
    "\n",
    "\n",
    "1. Log into your Mailchimp, find your Audience signup data and download the dataset to your computer.\n",
    "2. Load the dataset into Python with Pandas.\n",
    "3. Identify and select the relevant data columns.\n",
    "4. Build the *time series* model.\n",
    "5. Train and test the model.\n",
    "6. The next day (or week, or month): rinse, wash, repeat!\n",
    "\n",
    "vs. with Magicsheets:\n",
    "\n",
    "1. Log into your Mailchimp and select audience for predictions\n",
    "2. Re-run the model any time you want in the dedicated Slack channel with '/run-magicpipe'\n",
    "\n"
   ]
  },
  {
   "cell_type": "code",
   "execution_count": null,
   "id": "9f35cb5a-895e-4b46-a0fe-42f5958add81",
   "metadata": {},
   "outputs": [],
   "source": []
  },
  {
   "cell_type": "code",
   "execution_count": 25,
   "id": "b6a5482a-3e91-42c5-92a3-ec0bb8f9a678",
   "metadata": {},
   "outputs": [],
   "source": [
    "\n",
    "from sktime.performance_metrics.forecasting import mean_squared_error\n",
    "\n",
    "from sktime.forecasting.model_selection import temporal_train_test_split\n",
    "from sktime.utils.plotting import plot_series"
   ]
  },
  {
   "cell_type": "code",
   "execution_count": 26,
   "id": "9a8da4ed-fbcb-4446-8b7b-672b85f1b746",
   "metadata": {},
   "outputs": [],
   "source": []
  },
  {
   "cell_type": "code",
   "execution_count": 35,
   "id": "48a2e354-022f-4c76-aa07-597557beed16",
   "metadata": {},
   "outputs": [],
   "source": []
  },
  {
   "cell_type": "code",
   "execution_count": 36,
   "id": "03db6345-47da-4d5f-b042-953f1a8e2341",
   "metadata": {},
   "outputs": [
    {
     "data": {
      "text/plain": [
       "ForecastingHorizon([57, 58, 59, 60, 61, 62, 63, 64, 65, 66, 67, 68, 69, 70, 71, 72, 73,\n",
       "            74, 75, 76],\n",
       "           dtype='int64', is_relative=False)"
      ]
     },
     "execution_count": 36,
     "metadata": {},
     "output_type": "execute_result"
    }
   ],
   "source": [
    "fh"
   ]
  },
  {
   "cell_type": "code",
   "execution_count": 37,
   "id": "8b81459e-05f4-40d9-a0a4-70cc2930695b",
   "metadata": {},
   "outputs": [],
   "source": []
  },
  {
   "cell_type": "code",
   "execution_count": 10,
   "id": "ddd0c8b2-dd78-4d73-ae86-729867df7be0",
   "metadata": {},
   "outputs": [
    {
     "data": {
      "text/plain": [
       "ExponentialSmoothing()"
      ]
     },
     "execution_count": 10,
     "metadata": {},
     "output_type": "execute_result"
    }
   ],
   "source": []
  },
  {
   "cell_type": "code",
   "execution_count": 11,
   "id": "743cfa38-7a06-467d-9a3c-6053b10ee493",
   "metadata": {},
   "outputs": [],
   "source": [
    "pred = model.predict(fh)"
   ]
  },
  {
   "cell_type": "code",
   "execution_count": 12,
   "id": "3cecc4e7-7b48-4c24-9ad4-1496b1d0de7c",
   "metadata": {},
   "outputs": [
    {
     "data": {
      "text/plain": [
       "0     2.538197\n",
       "1     2.398095\n",
       "2     2.544000\n",
       "3     2.676615\n",
       "4     2.523906\n",
       "        ...   \n",
       "72    2.157529\n",
       "73    2.416427\n",
       "74    2.287416\n",
       "75    2.170156\n",
       "76    2.063576\n",
       "Length: 77, dtype: float64"
      ]
     },
     "execution_count": 12,
     "metadata": {},
     "output_type": "execute_result"
    }
   ],
   "source": [
    "pred"
   ]
  },
  {
   "cell_type": "code",
   "execution_count": 50,
   "id": "56323558-45cb-466b-891e-207b0b168365",
   "metadata": {},
   "outputs": [
    {
     "data": {
      "text/plain": [
       "ExponentialSmoothing(seasonal='add', sp=7, trend='add')"
      ]
     },
     "execution_count": 50,
     "metadata": {},
     "output_type": "execute_result"
    }
   ],
   "source": [
    "model.fit(times_day_count['count'])"
   ]
  },
  {
   "cell_type": "code",
   "execution_count": 53,
   "id": "4d95b8a0-28b9-4c06-8f47-9061cc0de9f3",
   "metadata": {},
   "outputs": [
    {
     "data": {
      "text/plain": [
       "77    2.0\n",
       "78    1.0\n",
       "79    2.0\n",
       "80    1.0\n",
       "81    1.0\n",
       "82    1.0\n",
       "83    1.0\n",
       "dtype: float64"
      ]
     },
     "execution_count": 53,
     "metadata": {},
     "output_type": "execute_result"
    }
   ],
   "source": [
    "np.floor(model.predict(fh=[1,2,3,4,5,6,7]))"
   ]
  },
  {
   "cell_type": "code",
   "execution_count": null,
   "id": "55e5c9f4-5e81-4892-a847-96265b8102fb",
   "metadata": {},
   "outputs": [],
   "source": []
  }
 ],
 "metadata": {
  "kernelspec": {
   "display_name": "Python 3",
   "language": "python",
   "name": "python3"
  },
  "language_info": {
   "codemirror_mode": {
    "name": "ipython",
    "version": 3
   },
   "file_extension": ".py",
   "mimetype": "text/x-python",
   "name": "python",
   "nbconvert_exporter": "python",
   "pygments_lexer": "ipython3",
   "version": "3.8.8"
  }
 },
 "nbformat": 4,
 "nbformat_minor": 5
}
