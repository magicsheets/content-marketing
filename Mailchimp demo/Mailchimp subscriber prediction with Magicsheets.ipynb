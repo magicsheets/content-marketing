{
 "cells": [
  {
   "cell_type": "markdown",
   "id": "51b4b044-bc3f-4d8a-9780-4673f224b940",
   "metadata": {},
   "source": [
    "# How many subscribers should I expect?...\n",
    "## Predicting new subscriptions with Machine Learning"
   ]
  },
  {
   "cell_type": "markdown",
   "id": "7cf43f29-6718-4bb9-b9a5-1746185891bb",
   "metadata": {},
   "source": [
    "*In this article we learn how to build a simple time series model in Python to predict the number of new newsletter subscribers in ````Mailchimp````. We then demonstrate how this process can be greatly simplified with <font color =#6b1880>[Magicsheets](ewww.magicsheets.io)</font>.*"
   ]
  },
  {
   "cell_type": "markdown",
   "id": "54958355-129b-495b-9f5a-2eca827a9334",
   "metadata": {},
   "source": [
    "*NOTE: You can directly implement the code in this notebook yourself: just go to the **link below***\n",
    "\n",
    "[![Open In Colab](https://colab.research.google.com/assets/colab-badge.svg)](https://colab.research.google.com/github/magicsheets/content-marketing/blob/main/Mailchimp%20demo/article.ipynb)"
   ]
  },
  {
   "cell_type": "markdown",
   "id": "c3728e87-d2fa-4c7b-a142-ba0dc7e86335",
   "metadata": {},
   "source": [
    "*NOTE: This notebook can be used directly with your own Mailchimp dataset. Just save it down on your laptop together with your own dataset called \"data.csv\", and run the code again.*"
   ]
  },
  {
   "cell_type": "markdown",
   "id": "7486a57f-ffa1-4ce3-b55e-652c0df0a887",
   "metadata": {},
   "source": [
    "Regardless of whether you\n",
    "\n",
    "* are a subscription-based business,\n",
    "* manage a ````Slack```` channel,\n",
    "* manage your start-ups newsletter,\n",
    "* etc.\n",
    "\n",
    "your key metric to think about is new subscriber numbers.\n",
    "\n",
    "For a **community manager**, knowing how big the new user traffic in the coming days is likely ot be is key for effective management of resources and efficient use of your time.\n",
    "\n",
    "Getting your data into nice charts for analysis is one thing, but how do we **predict** the new subscriber number?\n",
    "\n",
    "One way is to use a *time series* model.\n",
    "\n",
    "> Our model will learn to spot a pattern in the number of daily signups and extend this pattern by the extra prediction period of 7 days \n",
    "\n",
    "Let's look at an example to understand what this means.\n",
    "<!-- One simple and often effective way to do so is simple *regression models*.\n",
    "What are these? Regression models are just fitting a line to your data.\n",
    "If on x-axis (horizontal) we put the subscription times and y-axis (vertical) we plot subscription numbers, we might end up with a plot like this: -->"
   ]
  },
  {
   "cell_type": "markdown",
   "id": "a7ccc78f-bd4a-4a32-9262-98cdaf1fc92a",
   "metadata": {},
   "source": [
    "## The Mailchimp subscriber forecasting problem\n",
    "\n",
    "We will try to answer the question:\n",
    "> **How many new newsletter subscribers can I expect to get in the next week?**\n",
    "\n",
    "We will do so by applying Machine Learning to find a pattern in our ````Mailchimp```` subscriber dataset and extend this pattern to formulate a prediction.\n",
    "\n",
    "## The dataset\n",
    "First, let's get the past subscriber dataset for the past 3 months \n",
    "from our ````Mailchimp````. \n",
    "\n",
    "*(You can read about exporting your contacts [here](https://mailchimp.com/help/view-export-contacts/) (once you log into Mailchimp, go to Audiences $\\rightarrow$ select your audience $\\rightarrow$ view contacts $\\rightarrow$ export $\\rightarrow$ select export to .csv))*\n",
    "\n",
    "Export your Mailchimp dataset and save it in the same folder as this Jupyter notebook. In this tutorial, we are a \"fake\" (randomly generated) [Magicsheets.io](www.magicsheets.io) ````Mailchimp```` newsletter subscriber dataset.\n",
    "\n",
    "Once we have the dataset saved down in the same folder, we load it using the ````Pandas```` package. (The email addresses here are randomly generated.)"
   ]
  },
  {
   "cell_type": "code",
   "execution_count": 119,
   "id": "9373dfa8-5cc3-4460-a41d-ffd475459204",
   "metadata": {},
   "outputs": [
    {
     "data": {
      "text/html": [
       "<div>\n",
       "<style scoped>\n",
       "    .dataframe tbody tr th:only-of-type {\n",
       "        vertical-align: middle;\n",
       "    }\n",
       "\n",
       "    .dataframe tbody tr th {\n",
       "        vertical-align: top;\n",
       "    }\n",
       "\n",
       "    .dataframe thead th {\n",
       "        text-align: right;\n",
       "    }\n",
       "</style>\n",
       "<table border=\"1\" class=\"dataframe\">\n",
       "  <thead>\n",
       "    <tr style=\"text-align: right;\">\n",
       "      <th></th>\n",
       "      <th>Email Address</th>\n",
       "      <th>MEMBER_RATING</th>\n",
       "      <th>OPTIN_TIME</th>\n",
       "      <th>CONFIRM_TIME</th>\n",
       "      <th>GMTOFF</th>\n",
       "      <th>DSTOFF</th>\n",
       "      <th>TIMEZONE</th>\n",
       "      <th>CC</th>\n",
       "      <th>LAST_CHANGED</th>\n",
       "    </tr>\n",
       "  </thead>\n",
       "  <tbody>\n",
       "    <tr>\n",
       "      <th>0</th>\n",
       "      <td>dnote0@360.cn</td>\n",
       "      <td>2.0</td>\n",
       "      <td>2021/10/20 13:13</td>\n",
       "      <td>2021/10/20 13:13</td>\n",
       "      <td>NaN</td>\n",
       "      <td>NaN</td>\n",
       "      <td>NaN</td>\n",
       "      <td>NaN</td>\n",
       "      <td>2021/10/14 11:21</td>\n",
       "    </tr>\n",
       "    <tr>\n",
       "      <th>1</th>\n",
       "      <td>bmitcheson1@google.cn</td>\n",
       "      <td>4.0</td>\n",
       "      <td>2021/9/3 17:58</td>\n",
       "      <td>2021/9/3 17:58</td>\n",
       "      <td>1.0</td>\n",
       "      <td>2.0</td>\n",
       "      <td>europe/berlin</td>\n",
       "      <td>DE</td>\n",
       "      <td>2021/9/26 12:47</td>\n",
       "    </tr>\n",
       "    <tr>\n",
       "      <th>2</th>\n",
       "      <td>vmaps2@t-online.de</td>\n",
       "      <td>2.0</td>\n",
       "      <td>2021/7/31 9:58</td>\n",
       "      <td>2021/7/31 9:58</td>\n",
       "      <td>1.0</td>\n",
       "      <td>2.0</td>\n",
       "      <td>Europe/Brussels</td>\n",
       "      <td>BE</td>\n",
       "      <td>2021/9/26 12:53</td>\n",
       "    </tr>\n",
       "    <tr>\n",
       "      <th>3</th>\n",
       "      <td>mjoscelyne3@reddit.com</td>\n",
       "      <td>2.0</td>\n",
       "      <td>2021/8/28 17:44</td>\n",
       "      <td>2021/8/28 17:44</td>\n",
       "      <td>NaN</td>\n",
       "      <td>NaN</td>\n",
       "      <td>NaN</td>\n",
       "      <td>NaN</td>\n",
       "      <td>2021/9/26 12:47</td>\n",
       "    </tr>\n",
       "    <tr>\n",
       "      <th>4</th>\n",
       "      <td>slurcock4@ucla.edu</td>\n",
       "      <td>2.0</td>\n",
       "      <td>2021/8/17 13:33</td>\n",
       "      <td>2021/8/17 13:33</td>\n",
       "      <td>NaN</td>\n",
       "      <td>NaN</td>\n",
       "      <td>NaN</td>\n",
       "      <td>NaN</td>\n",
       "      <td>2021/9/26 12:47</td>\n",
       "    </tr>\n",
       "  </tbody>\n",
       "</table>\n",
       "</div>"
      ],
      "text/plain": [
       "            Email Address  MEMBER_RATING        OPTIN_TIME      CONFIRM_TIME  \\\n",
       "0           dnote0@360.cn            2.0  2021/10/20 13:13  2021/10/20 13:13   \n",
       "1   bmitcheson1@google.cn            4.0    2021/9/3 17:58    2021/9/3 17:58   \n",
       "2      vmaps2@t-online.de            2.0    2021/7/31 9:58    2021/7/31 9:58   \n",
       "3  mjoscelyne3@reddit.com            2.0   2021/8/28 17:44   2021/8/28 17:44   \n",
       "4      slurcock4@ucla.edu            2.0   2021/8/17 13:33   2021/8/17 13:33   \n",
       "\n",
       "   GMTOFF  DSTOFF         TIMEZONE   CC      LAST_CHANGED  \n",
       "0     NaN     NaN              NaN  NaN  2021/10/14 11:21  \n",
       "1     1.0     2.0    europe/berlin   DE   2021/9/26 12:47  \n",
       "2     1.0     2.0  Europe/Brussels   BE   2021/9/26 12:53  \n",
       "3     NaN     NaN              NaN  NaN   2021/9/26 12:47  \n",
       "4     NaN     NaN              NaN  NaN   2021/9/26 12:47  "
      ]
     },
     "execution_count": 119,
     "metadata": {},
     "output_type": "execute_result"
    }
   ],
   "source": [
    "# get pandas\n",
    "import pandas as pd\n",
    "\n",
    "# load the dataset as \"data\"\n",
    "# NOTE: if you wish to run this code with your own data, you can either\n",
    "## (1) save down your data file to the same folder as this notebook, then replace the \"url\" below with your file name, or\n",
    "## (2) \n",
    "url = 'https://raw.githubusercontent.com/magicsheets/content-marketing/main/Mailchimp%20demo/data.csv'\n",
    "data = pd.read_csv('data.csv')\n",
    "\n",
    "# view the top 10 rows of the dataset \n",
    "data.head()"
   ]
  },
  {
   "cell_type": "markdown",
   "id": "3492c3d4-fc5b-4710-b746-bb836867d373",
   "metadata": {},
   "source": [
    "### Cleaning the data\n",
    "\n",
    "````Mailchimp```` provides us with tonnes of useful information, such as he IP address of the subscirber, the location (actual geographical location!) of the IP address, the subscriber's time zone, etc.\n",
    "\n",
    "For us, however, the only useful piece of information for now will be the time when the person actually became a subscriber.\n",
    "\n",
    "> The key column for us is thu \"CONFIRM_TIME\" column which tells us when the subscriber became a subscriber."
   ]
  },
  {
   "cell_type": "code",
   "execution_count": 110,
   "id": "504f413e-453d-4dd9-83a0-9863fac88e69",
   "metadata": {},
   "outputs": [],
   "source": [
    "# define \"times\" variable to hold the desired data input\n",
    "times = data['CONFIRM_TIME']\n",
    "\n",
    "# modify \"times\" to only contain the date (we don't care about the exact hour when the person subscribed; just the date is enough)\n",
    "times = pd.to_datetime(times)"
   ]
  },
  {
   "cell_type": "markdown",
   "id": "09009aa1-feba-4050-8fd4-5dca33db0b4c",
   "metadata": {},
   "source": [
    "Once we isolated the desired \"times\" dataset, we want to group the subscription numbers by date.\n",
    "\n",
    "That is, we want to know how many new subscribers there were on each day."
   ]
  },
  {
   "cell_type": "code",
   "execution_count": 111,
   "id": "f47d19cf-cbc0-4cbf-8a64-f0aaf74f5841",
   "metadata": {},
   "outputs": [
    {
     "name": "stdout",
     "output_type": "stream",
     "text": [
      "   CONFIRM_TIME  count\n",
      "0    2021-07-26     46\n",
      "1    2021-07-27     59\n",
      "2    2021-07-28     50\n",
      "3    2021-07-29     57\n",
      "4    2021-07-30     62\n",
      "..          ...    ...\n",
      "87   2021-10-21     55\n",
      "88   2021-10-22     56\n",
      "89   2021-10-23     44\n",
      "90   2021-10-24     56\n",
      "91   2021-10-25     65\n",
      "\n",
      "[92 rows x 2 columns]\n"
     ]
    }
   ],
   "source": [
    "times_day_count = times.groupby(times.dt.floor('d')).size().reset_index(name='count')\n",
    "print(times_day_count)"
   ]
  },
  {
   "cell_type": "markdown",
   "id": "7f6627c1-c5ec-4beb-998c-ee2859d602ba",
   "metadata": {},
   "source": [
    "### Visualizing the dataset\n",
    "\n",
    "Let's plot the new subscriber counts as a function of time. We will use the famous ````matplotlib```` library for it."
   ]
  },
  {
   "cell_type": "code",
   "execution_count": 112,
   "id": "548882f3-e25b-431e-b041-c8f4ac15fce7",
   "metadata": {},
   "outputs": [
    {
     "data": {
      "text/plain": [
       "Text(0.5, 1.0, 'Mailchimp new subscribers over the past 3 months')"
      ]
     },
     "execution_count": 112,
     "metadata": {},
     "output_type": "execute_result"
    },
    {
     "data": {
      "image/png": "[encoded data removed]",
      "text/plain": [
       "<Figure size 432x288 with 1 Axes>"
      ]
     },
     "metadata": {
      "needs_background": "light"
     },
     "output_type": "display_data"
    }
   ],
   "source": [
    "# get the plotting library\n",
    "from matplotlib import pyplot as plt\n",
    "\n",
    "# horizontal axis: dates\n",
    "x = range(len(times_day_count['count']))\n",
    "\n",
    "# vertical axis: counts of new subscribers \n",
    "y = times_day_count['count']\n",
    "\n",
    "plt.plot(x,y)\n",
    "plt.xlabel('day')\n",
    "plt.ylabel('new subscriber count')\n",
    "plt.title('Mailchimp new subscribers over the past 3 months')"
   ]
  },
  {
   "cell_type": "markdown",
   "id": "390f3429-5bf5-45d4-895e-29a35b7730f7",
   "metadata": {},
   "source": [
    "This looks... messy, but some simple periodic patterns can be spotted even with \"naked eye\".\n",
    "\n",
    "Hopefully Machine Learning can help us make sense of these patterns and actually predict the number of subscribers we should expect over coming days."
   ]
  },
  {
   "cell_type": "markdown",
   "id": "4d392371-2efd-47b6-bcf1-e853d979b889",
   "metadata": {},
   "source": [
    "### Splitting the dataset\n",
    "\n",
    "Regardless of what model we train in the end, we need to be able to assess **how good** it is.\n",
    "\n",
    "> A reliable way to do this is to train your model only on *some* available data, and then evaluate it on the rest.\n",
    "\n",
    "This way,\n",
    "* the model first trains on *most* of the information, for example 70% of the dataset\n",
    "* you then ask the model: what do you predict for the remaining 30% of the dataset?\n",
    "* this prediction you can now compare with the real data that you kept hidden away from the model at training.\n",
    "\n",
    "> For example, if you have 100 days' worth of data, you can train the model on the first 70 days. You then look at what this model predicts for the remaining 30 days, and compare this prediction with the actual, true subscriber data for this period.\n",
    "\n",
    "Let's split the dataset. We can use a simple, predefined function, imported from the ````sktime```` library like so:"
   ]
  },
  {
   "cell_type": "code",
   "execution_count": 113,
   "id": "b75953ba-a5e9-450d-bd5f-295208fdb3e7",
   "metadata": {},
   "outputs": [],
   "source": [
    "from sktime.forecasting.model_selection import temporal_train_test_split\n",
    "data_train, data_test = temporal_train_test_split(times_day_count['count'])"
   ]
  },
  {
   "cell_type": "code",
   "execution_count": 114,
   "id": "e8b019aa-949d-4ae7-a43a-6f3179eeedd8",
   "metadata": {},
   "outputs": [
    {
     "data": {
      "text/plain": [
       "69"
      ]
     },
     "execution_count": 114,
     "metadata": {},
     "output_type": "execute_result"
    }
   ],
   "source": [
    "len(data_train)"
   ]
  },
  {
   "cell_type": "markdown",
   "id": "fae02256-5f60-438b-b39d-ffed748e0dd8",
   "metadata": {
    "tags": []
   },
   "source": [
    "## The predictive model: first attempt\n",
    "We now build the time series model. This can also be loaded directly from ````sktime```` library.\n",
    "\n",
    "> The model we are going to use is called Exponential Smoothing. You can read more about the theory behind it [here](https://en.wikipedia.org/wiki/Exponential_smoothing)."
   ]
  },
  {
   "cell_type": "code",
   "execution_count": 115,
   "id": "9f6e70b0-77b5-4ce7-ad8e-520b5f84fbe3",
   "metadata": {},
   "outputs": [],
   "source": [
    "# download the pre-defined model framework from the sktime library\n",
    "from sktime.forecasting.exp_smoothing import ExponentialSmoothing\n",
    "\n",
    "# construct the model for this case\n",
    "model = ExponentialSmoothing()"
   ]
  },
  {
   "cell_type": "markdown",
   "id": "d60bc360-6c42-481f-90f0-3468cf527cd7",
   "metadata": {},
   "source": [
    "### Training the model\n",
    "\n",
    "> We train our model using the time series dataset, by directly applying the *fit* function, and feeding the *count* column of the ````times_day_count```` variable to the model"
   ]
  },
  {
   "cell_type": "code",
   "execution_count": 116,
   "id": "79d7466f-10ae-4749-804b-dad92e8ea6e2",
   "metadata": {},
   "outputs": [
    {
     "data": {
      "text/plain": [
       "ExponentialSmoothing()"
      ]
     },
     "execution_count": 116,
     "metadata": {},
     "output_type": "execute_result"
    }
   ],
   "source": [
    "model.fit(data_train)"
   ]
  },
  {
   "cell_type": "markdown",
   "id": "5f5faabf-ecf4-4657-b310-b774a28b508e",
   "metadata": {},
   "source": [
    "### Testing the model\n",
    "\n",
    "We will now generate predictions for the period that the model was *not* trained on.\n",
    "\n",
    "This would be the remaining days corresponding to the data points in ````data_test````.\n",
    "\n",
    "We first need to tell Python that the remaining data points belong to the **Forecasting Horizon** which is a fancy name for the prediction period."
   ]
  },
  {
   "cell_type": "code",
   "execution_count": 117,
   "id": "c3cc7d28-8924-4601-88cb-b05657ef9147",
   "metadata": {},
   "outputs": [],
   "source": [
    "# Get the automatic Forecasting Horizon function\n",
    "from sktime.forecasting.base import ForecastingHorizon\n",
    "\n",
    "# define the Forecasting Horizon to be the part of the dataset that the model was not trained on (AKA the test dataset)\n",
    "for_hor = ForecastingHorizon(data_test.index, is_relative=False)\n",
    "\n",
    "# predict for the forecasting horizon\n",
    "pred_test = model.predict(for_hor)"
   ]
  },
  {
   "cell_type": "markdown",
   "id": "1d20de4a-a3c4-41a7-85dc-7f6850c0e298",
   "metadata": {},
   "source": [
    "#### Assessing how good the model is\n",
    "\n",
    "We now need some way of telling \"how far\" the values the model predicts for the prediction period are from the real number of new subscribers on those dates.\n",
    "\n",
    "Let's first compare these two visually, by plotting them on the same graph."
   ]
  },
  {
   "cell_type": "code",
   "execution_count": 29,
   "id": "24f8a654-ad6a-47b6-ad52-f03c3901113f",
   "metadata": {},
   "outputs": [
    {
     "data": {
      "text/plain": [
       "Text(0.5, 1.0, 'New Mailchimp subscriber model: predictions vs. reality')"
      ]
     },
     "execution_count": 29,
     "metadata": {},
     "output_type": "execute_result"
    },
    {
     "data": {
      "image/png": "[encoded data removed]",
      "text/plain": [
       "<Figure size 432x288 with 1 Axes>"
      ]
     },
     "metadata": {
      "needs_background": "light"
     },
     "output_type": "display_data"
    }
   ],
   "source": [
    "# horizontal axis: days of the forecasting horizon period\n",
    "x = range(len(pred_test))\n",
    "\n",
    "# vertical axis (curve 1): predicted values for the number of new subscribers\n",
    "y1 = pred_test\n",
    "\n",
    "# vertical axis (curve 1): actual values for the number of new subscribers\n",
    "y2 = data_test\n",
    "\n",
    "# now let's plot both\n",
    "plt.plot(x,y1,label='predictions')\n",
    "plt.plot(x,y2,label='actual data')\n",
    "plt.legend()\n",
    "plt.xlabel('days')\n",
    "plt.ylabel('new subscribers')\n",
    "plt.title('New Mailchimp subscriber model: predictions vs. reality')"
   ]
  },
  {
   "cell_type": "markdown",
   "id": "1f5c0a76-dd48-452a-85b6-9b062cc49232",
   "metadata": {},
   "source": [
    "If you are using the default dataset we provided here, you should be seeing a... straight line.\n",
    "\n",
    "This might seem not extremely helpful, but we can note that the mean of the data set in the forecasting period is actually exactly equal to this value."
   ]
  },
  {
   "cell_type": "code",
   "execution_count": 30,
   "id": "b733f003-d610-4be1-ab1f-d21fe9dcfad6",
   "metadata": {},
   "outputs": [
    {
     "data": {
      "text/plain": [
       "54.47826086956522"
      ]
     },
     "execution_count": 30,
     "metadata": {},
     "output_type": "execute_result"
    }
   ],
   "source": [
    "import numpy as np\n",
    "np.mean(data_test)"
   ]
  },
  {
   "cell_type": "markdown",
   "id": "9a3a9b6f-9559-4efc-8c5c-b32b930a1a35",
   "metadata": {},
   "source": [
    "The model **as is** not extremely helpful.\n",
    "\n",
    "Let's quantify how \"bad\" this model is so we can compare with other models soon.\n",
    "\n",
    "> A useful metric to quantify how good our predictions is called MSE (mean squared error). MSE can be high or low for good and bad models, but as a rule of thumb the lower it is, the better.\n",
    "\n",
    "You can read more about MSE [here](https://en.wikipedia.org/wiki/Mean_squared_error)."
   ]
  },
  {
   "cell_type": "code",
   "execution_count": 31,
   "id": "a1c1f5b8-3983-411b-b305-c95e23bf1236",
   "metadata": {},
   "outputs": [
    {
     "name": "stdout",
     "output_type": "stream",
     "text": [
      "51.323250355315075\n"
     ]
    }
   ],
   "source": [
    "# get the MSE function from the sktime library\n",
    "from sktime.performance_metrics.forecasting import mean_squared_error\n",
    "\n",
    "# calculate the error value\n",
    "error1 = mean_squared_error(pred_test,data_test)\n",
    "print(error1)"
   ]
  },
  {
   "cell_type": "markdown",
   "id": "01c1449c-2a84-4b0f-83ff-cf087be4b2d5",
   "metadata": {},
   "source": [
    "## Improving the predictive model\n",
    "\n",
    "Before you throw your model (*Exponential Smoothing* model, in our case) out of the window, one way to make it work better and product more reliable predictions is to adjust the model's *hyperparameters*.\n",
    "\n",
    "> You can think of the model as a *general framework*, and the hyperparameters as defining the actual shape of the model. For example, a \"parabola model\" is any function in the form $y=ax^2+bx+c$. Different values of hyperparameters $a, b, c$ will give you different shapes of the parabolic family.\n",
    "\n",
    "In practice, we might have to spend considerable amount of time picking these and experimenting with different setups, and this process can be indeed daunting (that's why data scientists are so well paid!).\n",
    "\n",
    "### Teaching your model periodicity\n",
    "\n",
    "Certain things happen periodically. We might for example know that new subscribers are more likely to sign up for our newsletter on Mondays, Tuesdays and Wednesdays, and much less likely to join e.g. on weekends.\n",
    "\n",
    "We can communicate this to our model to incorporate this periodicity by specifying the appropriate hyperparamter, like so:"
   ]
  },
  {
   "cell_type": "code",
   "execution_count": 15,
   "id": "4d424e2b-8785-4d72-900e-f239581631f6",
   "metadata": {},
   "outputs": [],
   "source": [
    "# weekly periodicity means we expect a pattern on scale of 7 days to emerge:\n",
    "periodicity = 7\n",
    "\n",
    "# we add the appripriate hyperparameter to the model to incorporate periodicity:\n",
    "model_2 = ExponentialSmoothing(sp = periodicity, seasonal='add')"
   ]
  },
  {
   "cell_type": "markdown",
   "id": "eed0b308-3aa1-41b8-90bf-6567035c15bc",
   "metadata": {},
   "source": [
    "> There are many more hyperparameters that you can specify and use to boost your model for better predictions. You can view the full list [here](https://www.sktime.org/en/v0.4.3/modules/auto_generated/sktime.forecasting.exp_smoothing.ExponentialSmoothing.html).\n",
    "\n",
    "Let's see how this new, improved model does when we train it:"
   ]
  },
  {
   "cell_type": "code",
   "execution_count": 16,
   "id": "edca7633-0cd4-46af-b59f-01e11a783484",
   "metadata": {},
   "outputs": [
    {
     "data": {
      "text/plain": [
       "Text(0.5, 1.0, 'New Mailchimp subscriber model: predictions vs. reality')"
      ]
     },
     "execution_count": 16,
     "metadata": {},
     "output_type": "execute_result"
    },
    {
     "data": {
      "image/png": "[encoded data removed]",
      "text/plain": [
       "<Figure size 432x288 with 1 Axes>"
      ]
     },
     "metadata": {
      "needs_background": "light"
     },
     "output_type": "display_data"
    }
   ],
   "source": [
    "# train (fit) the model on the train dataset:\n",
    "model_2.fit(data_train)\n",
    "\n",
    "# product predictions for the test dataset:\n",
    "pred_2 = model_2.predict(for_hor)\n",
    "\n",
    "# plot the predictions for this new model together with the actual test dataset:\n",
    "plt.plot(x,pred_2,label='predictions')\n",
    "plt.plot(x,y2,label='actual data')\n",
    "plt.legend()\n",
    "plt.xlabel('days')\n",
    "plt.ylabel('new subscribers')\n",
    "plt.title('New Mailchimp subscriber model: predictions vs. reality')"
   ]
  },
  {
   "cell_type": "markdown",
   "id": "4b1f3bf4-2d31-42c0-b8fa-ef0cbc96eb59",
   "metadata": {},
   "source": [
    "This already seems to capture more of the variability in the dataset.\n",
    "\n",
    "We can also compare the MSE (error value) for ````model_2```` and the previous ````model```` that did not look at periodicity at all:"
   ]
  },
  {
   "cell_type": "code",
   "execution_count": 19,
   "id": "badbda0c-0273-4ea6-8625-315b18815551",
   "metadata": {},
   "outputs": [
    {
     "name": "stdout",
     "output_type": "stream",
     "text": [
      "the new model's error is =  47.13314112736905\n",
      "the new model's error is a  8.164154060659747 % improvement over the old model\n"
     ]
    }
   ],
   "source": [
    "error2 = mean_squared_error(pred_2, data_test)\n",
    "\n",
    "print(\"the new model's error is = \",error2)\n",
    "\n",
    "print(\"the new model's error is a \", 100*abs(error2-error1)/error1, \"% improvement over the old model\")"
   ]
  },
  {
   "cell_type": "markdown",
   "id": "34de863b-bbde-45b8-873b-129ad4c094fb",
   "metadata": {},
   "source": [
    "Adding periodicity already improves the predictive power of the model!\n",
    "\n",
    "In practice, we would have to spend much more time to understand and experiment with various hyperparameter setup combinations until we get a great model that produces even more satisfying results.\n",
    "\n",
    "(In comparison, using [Magicsheets](www.magicsheets.io) this process would be 100% automated.)"
   ]
  },
  {
   "cell_type": "markdown",
   "id": "d4b6dd35-b747-40ec-b967-7777b051cf72",
   "metadata": {},
   "source": [
    "## Predicting new Mailchimp subscriber numbers \n",
    "\n",
    "We can now finally move on to predicting the new Mailchimp subscriber numbers that we originally set out to do."
   ]
  },
  {
   "cell_type": "markdown",
   "id": "1e699780-aa94-41c0-b05b-a7bf401d2a58",
   "metadata": {},
   "source": [
    "Here we are focusing on a 1 week prediction, but you can use any number of days you wish.\n",
    "\n",
    "**Note:** *The farther ahead you are looking, the less accurate the predictions will be. You should also be careful when picking the size of the prediction period *relative to your dataset size*. For example, if you have a dataset encompassing 3 months, a week's worth of predictions might make sense, but making a 5-year forecast based on the same data is probably not going to be very accurate!*"
   ]
  },
  {
   "cell_type": "code",
   "execution_count": 33,
   "id": "d6fbebfe-4178-4948-8949-338845bdbcb4",
   "metadata": {},
   "outputs": [
    {
     "name": "stdout",
     "output_type": "stream",
     "text": [
      "69    51.888901\n",
      "70    53.800013\n",
      "71    57.400023\n",
      "72    53.500012\n",
      "73    55.100009\n",
      "74    56.100020\n",
      "75    52.100006\n",
      "dtype: float64\n"
     ]
    }
   ],
   "source": [
    "# Define forecasting horizon to be 1 week (seven days)\n",
    "forecasting_horizon = [1,2,3,4,5,6,7]\n",
    "\n",
    "# generate new predictions using model_2 to make sure periodicity is included in our model\n",
    "predictions = model_2.predict(forecasting_horizon)\n",
    "print(predictions)"
   ]
  },
  {
   "cell_type": "markdown",
   "id": "2cb4152f-184d-46d3-81c8-7035f1f03e07",
   "metadata": {},
   "source": [
    "Becase we are dealing with integer (non-fraction) things (number of new subscribers) these numbers should be rounded to nearest integer, so that $1.96 \\approx 2.0$, $1.01\\approx 1.0$, etc. "
   ]
  },
  {
   "cell_type": "code",
   "execution_count": 58,
   "id": "26dcacfe-3abe-41d3-aad5-bdd1c9c11c8c",
   "metadata": {},
   "outputs": [
    {
     "name": "stdout",
     "output_type": "stream",
     "text": [
      "69    51.0\n",
      "70    53.0\n",
      "71    57.0\n",
      "72    53.0\n",
      "73    55.0\n",
      "74    56.0\n",
      "75    52.0\n",
      "dtype: float64\n"
     ]
    }
   ],
   "source": [
    "print(np.floor(predictions))"
   ]
  },
  {
   "cell_type": "code",
   "execution_count": null,
   "id": "37debc9f-e2f6-43ff-a994-6d5a9b85523d",
   "metadata": {},
   "outputs": [],
   "source": []
  },
  {
   "cell_type": "code",
   "execution_count": 76,
   "id": "5e562c4c-52ef-45ba-8546-c8e17607a89e",
   "metadata": {},
   "outputs": [
    {
     "data": {
      "text/plain": [
       "array([ 0,  0,  0,  0,  0,  0,  0, 46, 59, 50, 57, 62, 65, 55, 50, 54, 53,\n",
       "       59, 59, 60, 37, 51, 68, 66, 57, 72, 43, 58, 38, 57, 38, 51, 54, 61,\n",
       "       44, 53, 54, 56, 49, 60, 43, 59, 49, 55, 57, 70, 52, 42, 62, 59, 49,\n",
       "       47, 50, 50, 48, 46, 65, 63, 71, 41, 56, 54, 45, 62, 65, 45, 52, 43,\n",
       "       51, 61, 65, 50, 52, 65, 53, 54, 50, 49, 58, 50, 52, 71, 43, 55, 40,\n",
       "       60, 50, 61, 56, 55, 62, 62, 48, 55, 55, 56, 44, 56, 65])"
      ]
     },
     "execution_count": 76,
     "metadata": {},
     "output_type": "execute_result"
    }
   ],
   "source": [
    "\n",
    "y"
   ]
  },
  {
   "cell_type": "markdown",
   "id": "10983cd6-4156-459d-b551-e169f0a2947d",
   "metadata": {},
   "source": [
    "Finally, we can plot these predictions as a forecasting extension of the dataset."
   ]
  },
  {
   "cell_type": "code",
   "execution_count": 103,
   "id": "1d585860-d0ec-487f-9123-b95a334c1897",
   "metadata": {},
   "outputs": [
    {
     "data": {
      "text/plain": [
       "Text(0.5, 1.0, 'New Mailchimp subscriber model: predictions vs. reality')"
      ]
     },
     "execution_count": 103,
     "metadata": {},
     "output_type": "execute_result"
    },
    {
     "data": {
      "image/png": "[encoded data removed]",
      "text/plain": [
       "<Figure size 432x288 with 1 Axes>"
      ]
     },
     "metadata": {
      "needs_background": "light"
     },
     "output_type": "display_data"
    }
   ],
   "source": [
    "# add 7 days to the x-axis:\n",
    "x1 = range(len(times_day_count['count']))\n",
    "\n",
    "x2 = np.linspace(len(times_day_count['count'])+1,len(forecasting_horizon)+len(times_day_count['count']),len(forecasting_horizon))\n",
    "           \n",
    "\n",
    "# for plotting, we combine the 3 month period (historical data) and add 7 extra days (forecasting horizon) at the end with zero values\n",
    "y = np.array(times_day_count['count'])\n",
    "\n",
    "# to make predictions look different to the historical data, we plot the predictions as a curve of the same length as y, with zeros in place of historical data\n",
    "z = np.array(predictions)\n",
    "\n",
    "\n",
    "pred_2 = model_2.predict(for_hor)\n",
    "\n",
    "# plot the predictions for this new model together with the actual test dataset:\n",
    "plt.plot(x1,y,label='Actual data')\n",
    "plt.plot(x2,z,label='Next 7 day prediction', linestyle='dashed')\n",
    "plt.legend(loc='lower left')\n",
    "plt.xlabel('days')\n",
    "plt.ylabel('new subscribers')\n",
    "plt.title('New Mailchimp subscriber model: predictions vs. reality')"
   ]
  },
  {
   "cell_type": "markdown",
   "id": "d240c360-d5b2-4007-a74c-8931b0342219",
   "metadata": {},
   "source": [
    "## Automating the subscriber predictions with <font color=#6b1880>Magicsheets</font>\n",
    "\n",
    "To sum up, in order to get Mailchimp new subscriber volume prediction, we had to go through the following steps:\n",
    "\n",
    "* A. Download and prepare the dataset\n",
    "1. Log into your ````Mailchimp````, find your ````Audience```` signup data and download the dataset to your computer.\n",
    "2. Load the dataset into Python with ````Pandas````.\n",
    "3. Identify and select the relevant data columns.\n",
    "\n",
    "* B. Build and fine-tune the model\n",
    "4. Build the *time series* model.\n",
    "5. Train the model on the training set.\n",
    "6. Test the model on the testing set.\n",
    "7. Calculate the MSE, plot the predicitons, and adjust hyperparameters.\n",
    "8. Repeat 4->7 until you are happy with your model's MSE.\n",
    "\n",
    "* C. Make predictions\n",
    "9. Make the predictions\n",
    "10. The next day (or week, or month): rinse, wash, repeat!\n",
    "\n",
    "This looks - and indeed is - daunting.\n",
    "\n",
    "**That's why we built <font color = #6b1880>Magicsheets</font>, which simplifies this process to just 2 steps:**\n",
    "\n",
    "1. Log into your Mailchimp and select audience for predictions\n",
    "2. Re-run the model any time you want in the dedicated Slack channel with '/run-magicpipe'\n",
    "\n",
    "> Apart from being much faster than building the model yourself, <font color = #6b1880>Magicsheets</font> also automatically selects the most suitable hyperparameter setup for your dataset, so you can have confidence in your predictions.\n",
    "\n",
    "> You can watch a short demo of how <font color = #6b1880>Magicsheets</font> works [here](https://www.loom.com/share/4bab7f8d02fe4447b50cd3f0fb8d6c68?sharedAppSource=personal_library)."
   ]
  },
  {
   "cell_type": "markdown",
   "id": "c72eac0c-05f0-4699-ad10-3c6a08c64282",
   "metadata": {},
   "source": [
    "We are now working on a <font color = #6b1880>Magicsheets</font> Mailchimp pipeline that you could deploy yourself in 2-3 lines of code.\n",
    "\n",
    "\n",
    "You can read more about what we are building [here](www.magicsheets.io)."
   ]
  },
  {
   "cell_type": "code",
   "execution_count": null,
   "id": "f6f43814-ea75-4cca-8259-4468034c87ff",
   "metadata": {},
   "outputs": [],
   "source": []
  },
  {
   "cell_type": "code",
   "execution_count": null,
   "id": "4e6da9a7-2fb8-4644-bdd0-45ba1eef9856",
   "metadata": {},
   "outputs": [],
   "source": []
  }
 ],
 "metadata": {
  "kernelspec": {
   "display_name": "Python 3",
   "language": "python",
   "name": "python3"
  },
  "language_info": {
   "codemirror_mode": {
    "name": "ipython",
    "version": 3
   },
   "file_extension": ".py",
   "mimetype": "text/x-python",
   "name": "python",
   "nbconvert_exporter": "python",
   "pygments_lexer": "ipython3",
   "version": "3.8.8"
  }
 },
 "nbformat": 4,
 "nbformat_minor": 5
}
